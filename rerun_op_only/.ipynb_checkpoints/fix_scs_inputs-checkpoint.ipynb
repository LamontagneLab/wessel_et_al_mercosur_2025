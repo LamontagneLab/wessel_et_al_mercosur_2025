{
 "cells": [
  {
   "cell_type": "markdown",
   "id": "f8c67c67",
   "metadata": {},
   "source": [
    "**Prep Script:** assign capacities for all periods (from completed scenario) so operations can be run under, e.g., changing the level of trade allowed. <a id='top'></a>"
   ]
  },
  {
   "cell_type": "code",
   "execution_count": 1,
   "id": "8218d261",
   "metadata": {},
   "outputs": [],
   "source": [
    "import os\n",
    "import csv\n",
    "import pandas as pd\n",
    "import numpy as np"
   ]
  },
  {
   "cell_type": "code",
   "execution_count": 2,
   "id": "11c558f1",
   "metadata": {
    "collapsed": true
   },
   "outputs": [
    {
     "data": {
      "text/plain": [
       "['prm15_wcost_re1_c2p1_tn',\n",
       " 'prm15_wcost_re2_c2p1_tn',\n",
       " 'prm15_wcost_re3_c2p1_tn',\n",
       " 'prm15_wcost_re4_c2p1_tn',\n",
       " 'prm15_wcost_re5_c2p1_tn',\n",
       " 'prm15_wcost_re6_c2p1_tn',\n",
       " 'prm15_wcost_re7_c2p1_tn',\n",
       " 'prm15_wcost_re8_c2p1_tn',\n",
       " 'prm15_wcost_re9_c2p1_tn',\n",
       " 'prm15_wcost_re10_c2p1_tn',\n",
       " 'prm15_wcost_re11_c2p1_tn',\n",
       " 'prm15_wcost_re12_c2p1_tn',\n",
       " 'prm15_wcost_re13_c2p1_tn',\n",
       " 'prm15_wcost_re14_c2p1_tn',\n",
       " 'prm15_wcost_re15_c2p1_tn',\n",
       " 'prm15_wcost_re16_c2p1_tn',\n",
       " 'prm15_wcost_re17_c2p1_tn',\n",
       " 'prm15_wcost_re18_c2p1_tn',\n",
       " 'prm15_wcost_re19_c2p1_tn',\n",
       " 'prm15_wcost_re20_c2p1_tn',\n",
       " 'prm15_wcost_re1_c2p1_co2_cut90p_tn',\n",
       " 'prm15_wcost_re2_c2p1_co2_cut90p_tn',\n",
       " 'prm15_wcost_re3_c2p1_co2_cut90p_tn',\n",
       " 'prm15_wcost_re4_c2p1_co2_cut90p_tn',\n",
       " 'prm15_wcost_re5_c2p1_co2_cut90p_tn',\n",
       " 'prm15_wcost_re6_c2p1_co2_cut90p_tn',\n",
       " 'prm15_wcost_re7_c2p1_co2_cut90p_tn',\n",
       " 'prm15_wcost_re8_c2p1_co2_cut90p_tn',\n",
       " 'prm15_wcost_re9_c2p1_co2_cut90p_tn',\n",
       " 'prm15_wcost_re10_c2p1_co2_cut90p_tn',\n",
       " 'prm15_wcost_re11_c2p1_co2_cut90p_tn',\n",
       " 'prm15_wcost_re12_c2p1_co2_cut90p_tn',\n",
       " 'prm15_wcost_re13_c2p1_co2_cut90p_tn',\n",
       " 'prm15_wcost_re14_c2p1_co2_cut90p_tn',\n",
       " 'prm15_wcost_re15_c2p1_co2_cut90p_tn',\n",
       " 'prm15_wcost_re16_c2p1_co2_cut90p_tn',\n",
       " 'prm15_wcost_re17_c2p1_co2_cut90p_tn',\n",
       " 'prm15_wcost_re18_c2p1_co2_cut90p_tn',\n",
       " 'prm15_wcost_re19_c2p1_co2_cut90p_tn',\n",
       " 'prm15_wcost_re20_c2p1_co2_cut90p_tn']"
      ]
     },
     "execution_count": 2,
     "metadata": {},
     "output_type": "execute_result"
    }
   ],
   "source": [
    "# path to completed scenarios\n",
    "respath = '../../outputs/'\n",
    "\n",
    "# get list of completed scenarios (if multiple), and sort as needed. can also specify manually\n",
    "scen_list = [i for i in os.listdir(respath) if '_tn' in i]\n",
    "\n",
    "def myFunc(e):\n",
    "    return len(e)\n",
    "scen_list.sort(key=myFunc)\n",
    "\n",
    "scen_list"
   ]
  },
  {
   "cell_type": "code",
   "execution_count": 3,
   "id": "8ad22ec7",
   "metadata": {},
   "outputs": [],
   "source": [
    "# path to 'project_specified_fixed_cost' input file, including file name\n",
    "speccost = pd.read_csv('data/1_project_existing_fixed_cost_1.csv')\n",
    "\n",
    "# path to 'project_new_potential' input file, including file name\n",
    "newpot = pd.read_csv('data/1_project_new_potential_1.csv')\n",
    "\n",
    "# path to 'project_portfolios' input file, including file name\n",
    "portf = pd.read_csv('data/1_project_portfolios_1.csv')\n",
    "\n",
    "# path to write new files\n",
    "outpath = 'new_inputs/'\n",
    "\n",
    "# set scenario id for new files (will increment if multiple scenarios passed)\n",
    "id0 = 101\n",
    "ids = np.arange(id0, id0+len(scen_list))\n",
    "\n",
    "# for project_portfolio and project_new_potential, a scenario ID of \"0\" will be used to signify no future expansion.\n",
    "# further, it will be the same for any scenario created using this method, so no need for multiple ID's."
   ]
  },
  {
   "cell_type": "code",
   "execution_count": 4,
   "id": "92d93c2f",
   "metadata": {},
   "outputs": [],
   "source": [
    "i=0 # for testing, before creating loop."
   ]
  },
  {
   "cell_type": "markdown",
   "id": "eb89a89c",
   "metadata": {},
   "source": [
    "***"
   ]
  },
  {
   "cell_type": "markdown",
   "id": "50e95208",
   "metadata": {},
   "source": [
    "### 1. Set new project potentials to zero"
   ]
  },
  {
   "cell_type": "code",
   "execution_count": 5,
   "id": "16cbb2dd",
   "metadata": {},
   "outputs": [
    {
     "data": {
      "text/html": [
       "<div>\n",
       "<style scoped>\n",
       "    .dataframe tbody tr th:only-of-type {\n",
       "        vertical-align: middle;\n",
       "    }\n",
       "\n",
       "    .dataframe tbody tr th {\n",
       "        vertical-align: top;\n",
       "    }\n",
       "\n",
       "    .dataframe thead th {\n",
       "        text-align: right;\n",
       "    }\n",
       "</style>\n",
       "<table border=\"1\" class=\"dataframe\">\n",
       "  <thead>\n",
       "    <tr style=\"text-align: right;\">\n",
       "      <th></th>\n",
       "      <th>project</th>\n",
       "      <th>period</th>\n",
       "      <th>min_cumulative_new_build_mw</th>\n",
       "      <th>max_cumulative_new_build_mw</th>\n",
       "      <th>min_cumulative_new_build_mwh</th>\n",
       "      <th>max_cumulative_new_build_mwh</th>\n",
       "    </tr>\n",
       "  </thead>\n",
       "  <tbody>\n",
       "    <tr>\n",
       "      <th>0</th>\n",
       "      <td>P_Argentina_Biomass</td>\n",
       "      <td>2020</td>\n",
       "      <td>0</td>\n",
       "      <td>0</td>\n",
       "      <td>NaN</td>\n",
       "      <td>NaN</td>\n",
       "    </tr>\n",
       "    <tr>\n",
       "      <th>1</th>\n",
       "      <td>P_Argentina_Coal_Sub</td>\n",
       "      <td>2020</td>\n",
       "      <td>0</td>\n",
       "      <td>0</td>\n",
       "      <td>NaN</td>\n",
       "      <td>NaN</td>\n",
       "    </tr>\n",
       "    <tr>\n",
       "      <th>2</th>\n",
       "      <td>P_Argentina_Coal_Sup</td>\n",
       "      <td>2020</td>\n",
       "      <td>0</td>\n",
       "      <td>0</td>\n",
       "      <td>NaN</td>\n",
       "      <td>NaN</td>\n",
       "    </tr>\n",
       "    <tr>\n",
       "      <th>3</th>\n",
       "      <td>P_Argentina_Coal_IGCC</td>\n",
       "      <td>2020</td>\n",
       "      <td>0</td>\n",
       "      <td>0</td>\n",
       "      <td>NaN</td>\n",
       "      <td>NaN</td>\n",
       "    </tr>\n",
       "    <tr>\n",
       "      <th>4</th>\n",
       "      <td>P_Argentina_Gas_OCGT</td>\n",
       "      <td>2020</td>\n",
       "      <td>0</td>\n",
       "      <td>0</td>\n",
       "      <td>NaN</td>\n",
       "      <td>NaN</td>\n",
       "    </tr>\n",
       "  </tbody>\n",
       "</table>\n",
       "</div>"
      ],
      "text/plain": [
       "                 project  period  min_cumulative_new_build_mw  \\\n",
       "0    P_Argentina_Biomass    2020                            0   \n",
       "1   P_Argentina_Coal_Sub    2020                            0   \n",
       "2   P_Argentina_Coal_Sup    2020                            0   \n",
       "3  P_Argentina_Coal_IGCC    2020                            0   \n",
       "4   P_Argentina_Gas_OCGT    2020                            0   \n",
       "\n",
       "   max_cumulative_new_build_mw  min_cumulative_new_build_mwh  \\\n",
       "0                            0                           NaN   \n",
       "1                            0                           NaN   \n",
       "2                            0                           NaN   \n",
       "3                            0                           NaN   \n",
       "4                            0                           NaN   \n",
       "\n",
       "   max_cumulative_new_build_mwh  \n",
       "0                           NaN  \n",
       "1                           NaN  \n",
       "2                           NaN  \n",
       "3                           NaN  \n",
       "4                           NaN  "
      ]
     },
     "execution_count": 5,
     "metadata": {},
     "output_type": "execute_result"
    }
   ],
   "source": [
    "newpot['max_cumulative_new_build_mw'] = 0\n",
    "newpot.to_csv(outpath+'0_project_new_potential_0.csv',index=False)\n",
    "newpot.head()"
   ]
  },
  {
   "cell_type": "markdown",
   "id": "a070c28b",
   "metadata": {},
   "source": [
    "***"
   ]
  },
  {
   "cell_type": "markdown",
   "id": "e41bf12b",
   "metadata": {},
   "source": [
    "### 2. Update project portfolio so that all projects are \"gen_spec\" (or \"stor_spec\")"
   ]
  },
  {
   "cell_type": "code",
   "execution_count": 6,
   "id": "db6bd091",
   "metadata": {},
   "outputs": [
    {
     "data": {
      "text/plain": [
       "gen_spec     2963\n",
       "stor_spec       5\n",
       "Name: capacity_type, dtype: int64"
      ]
     },
     "execution_count": 6,
     "metadata": {},
     "output_type": "execute_result"
    }
   ],
   "source": [
    "portf['capacity_type'] = portf['capacity_type'].map({'gen_spec':'gen_spec','gen_new_lin':'gen_spec',\n",
    "                                                     'gen_new_bin':'gen_spec','stor_new_lin':'stor_spec'})\n",
    "portf.to_csv(outpath+'0_project_portfolios_0.csv',index=False)\n",
    "portf.capacity_type.value_counts()"
   ]
  },
  {
   "cell_type": "markdown",
   "id": "19b8c246",
   "metadata": {},
   "source": [
    "***"
   ]
  },
  {
   "cell_type": "markdown",
   "id": "b5f46790",
   "metadata": {},
   "source": [
    "### 3. Format newly built capacity file into existing capacity base input\n",
    "### and\n",
    "### 4. Update project specified fixed costs with new capacity costs"
   ]
  },
  {
   "cell_type": "code",
   "execution_count": 33,
   "id": "f65d458b",
   "metadata": {
    "scrolled": false
   },
   "outputs": [
    {
     "data": {
      "text/html": [
       "<div>\n",
       "<style scoped>\n",
       "    .dataframe tbody tr th:only-of-type {\n",
       "        vertical-align: middle;\n",
       "    }\n",
       "\n",
       "    .dataframe tbody tr th {\n",
       "        vertical-align: top;\n",
       "    }\n",
       "\n",
       "    .dataframe thead th {\n",
       "        text-align: right;\n",
       "    }\n",
       "</style>\n",
       "<table border=\"1\" class=\"dataframe\">\n",
       "  <thead>\n",
       "    <tr style=\"text-align: right;\">\n",
       "      <th></th>\n",
       "      <th>project</th>\n",
       "      <th>period</th>\n",
       "      <th>annual_fixed_cost_per_mw_year</th>\n",
       "      <th>annual_fixed_cost_per_mwh_year</th>\n",
       "    </tr>\n",
       "  </thead>\n",
       "  <tbody>\n",
       "    <tr>\n",
       "      <th>0</th>\n",
       "      <td>E_Argentina_Biomass_2015_rest</td>\n",
       "      <td>2020</td>\n",
       "      <td>122700.000000</td>\n",
       "      <td>0</td>\n",
       "    </tr>\n",
       "    <tr>\n",
       "      <th>1</th>\n",
       "      <td>E_Argentina_Biomass_2015_rest</td>\n",
       "      <td>2025</td>\n",
       "      <td>122700.000000</td>\n",
       "      <td>0</td>\n",
       "    </tr>\n",
       "    <tr>\n",
       "      <th>2</th>\n",
       "      <td>E_Argentina_Biomass_2015_rest</td>\n",
       "      <td>2030</td>\n",
       "      <td>122700.000000</td>\n",
       "      <td>0</td>\n",
       "    </tr>\n",
       "    <tr>\n",
       "      <th>3</th>\n",
       "      <td>E_Argentina_Biomass_2015_rest</td>\n",
       "      <td>2035</td>\n",
       "      <td>122700.000000</td>\n",
       "      <td>0</td>\n",
       "    </tr>\n",
       "    <tr>\n",
       "      <th>4</th>\n",
       "      <td>E_Argentina_Biomass_2015_rest</td>\n",
       "      <td>2040</td>\n",
       "      <td>122700.000000</td>\n",
       "      <td>0</td>\n",
       "    </tr>\n",
       "    <tr>\n",
       "      <th>...</th>\n",
       "      <td>...</td>\n",
       "      <td>...</td>\n",
       "      <td>...</td>\n",
       "      <td>...</td>\n",
       "    </tr>\n",
       "    <tr>\n",
       "      <th>20771</th>\n",
       "      <td>P_Hydro_Tocantins1310</td>\n",
       "      <td>2040</td>\n",
       "      <td>146753.573298</td>\n",
       "      <td>0</td>\n",
       "    </tr>\n",
       "    <tr>\n",
       "      <th>20772</th>\n",
       "      <td>P_Hydro_Amazon1082</td>\n",
       "      <td>2050</td>\n",
       "      <td>146753.573298</td>\n",
       "      <td>0</td>\n",
       "    </tr>\n",
       "    <tr>\n",
       "      <th>20773</th>\n",
       "      <td>U_Hydro_SAmerica_Colorado89</td>\n",
       "      <td>2045</td>\n",
       "      <td>0.000000</td>\n",
       "      <td>0</td>\n",
       "    </tr>\n",
       "    <tr>\n",
       "      <th>20774</th>\n",
       "      <td>P_Hydro_Tocantins1297</td>\n",
       "      <td>2030</td>\n",
       "      <td>0.000000</td>\n",
       "      <td>0</td>\n",
       "    </tr>\n",
       "    <tr>\n",
       "      <th>20775</th>\n",
       "      <td>P_Hydro_Negro53</td>\n",
       "      <td>2035</td>\n",
       "      <td>146753.573298</td>\n",
       "      <td>0</td>\n",
       "    </tr>\n",
       "  </tbody>\n",
       "</table>\n",
       "<p>20776 rows × 4 columns</p>\n",
       "</div>"
      ],
      "text/plain": [
       "                             project  period  annual_fixed_cost_per_mw_year  \\\n",
       "0      E_Argentina_Biomass_2015_rest    2020                  122700.000000   \n",
       "1      E_Argentina_Biomass_2015_rest    2025                  122700.000000   \n",
       "2      E_Argentina_Biomass_2015_rest    2030                  122700.000000   \n",
       "3      E_Argentina_Biomass_2015_rest    2035                  122700.000000   \n",
       "4      E_Argentina_Biomass_2015_rest    2040                  122700.000000   \n",
       "...                              ...     ...                            ...   \n",
       "20771          P_Hydro_Tocantins1310    2040                  146753.573298   \n",
       "20772             P_Hydro_Amazon1082    2050                  146753.573298   \n",
       "20773    U_Hydro_SAmerica_Colorado89    2045                       0.000000   \n",
       "20774          P_Hydro_Tocantins1297    2030                       0.000000   \n",
       "20775                P_Hydro_Negro53    2035                  146753.573298   \n",
       "\n",
       "       annual_fixed_cost_per_mwh_year  \n",
       "0                                   0  \n",
       "1                                   0  \n",
       "2                                   0  \n",
       "3                                   0  \n",
       "4                                   0  \n",
       "...                               ...  \n",
       "20771                               0  \n",
       "20772                               0  \n",
       "20773                               0  \n",
       "20774                               0  \n",
       "20775                               0  \n",
       "\n",
       "[20776 rows x 4 columns]"
      ]
     },
     "execution_count": 33,
     "metadata": {},
     "output_type": "execute_result"
    }
   ],
   "source": [
    "for i in range(len(scen_list)):\n",
    "    newcap = pd.read_csv(respath+'{}/results/capacity_all.csv'.format(scen_list[i]))\n",
    "    \n",
    "    speccap = newcap[['project','period','capacity_mw','capacity_mwh']]\\\n",
    "                      .rename(columns={'capacity_mwh':'specified_capacity_mwh',\n",
    "                                       'capacity_mw':'specified_capacity_mw'})\n",
    "\n",
    "    speccap.to_csv(outpath + str(ids[i]) + '_project_existing_capacity_base.csv', index=False)\n",
    "    \n",
    "    cost_new = pd.read_csv(respath+'{}/results/costs_capacity_all_projects.csv'.format(scen_list[i]))\n",
    "    \n",
    "    cost_cap = cost_new.drop(columns=['technology','load_zone'])\\\n",
    "                   .merge(speccap.drop(columns='specified_capacity_mwh'), on=['project','period'])\n",
    "\n",
    "    cost_cap['annual_fixed_cost_per_mw_year'] = (cost_cap['capacity_cost']/cost_cap['specified_capacity_mw'])*\\\n",
    "                                                (cost_cap['hours_in_full_period']/cost_cap['hours_in_subproblem_period'])\n",
    "\n",
    "    cost_cap['annual_fixed_cost_per_mwh_year'] = 0\n",
    "    cost_cap = cost_cap[['project','period','annual_fixed_cost_per_mw_year','annual_fixed_cost_per_mwh_year']]\n",
    "    \n",
    "    cost_cap = cost_cap.fillna(0)\n",
    "    cost_cap.to_csv(outpath + '{}_project_existing_fixed_cost_{}.csv'.format(str(ids[i]),str(ids[i])), index=False)\n",
    "\n",
    "cost_cap"
   ]
  },
  {
   "cell_type": "markdown",
   "id": "f2509da0",
   "metadata": {},
   "source": [
    "***"
   ]
  },
  {
   "cell_type": "markdown",
   "id": "15c1a97c",
   "metadata": {},
   "source": [
    "### Next Steps:\n",
    "Update scenarios file with new scenario ID's<br>\n",
    "Rerun GridPath"
   ]
  },
  {
   "cell_type": "code",
   "execution_count": null,
   "id": "0ab70b2d",
   "metadata": {},
   "outputs": [],
   "source": []
  },
  {
   "cell_type": "code",
   "execution_count": null,
   "id": "b8132f18",
   "metadata": {},
   "outputs": [],
   "source": []
  },
  {
   "cell_type": "code",
   "execution_count": null,
   "id": "6f68226e",
   "metadata": {},
   "outputs": [],
   "source": []
  },
  {
   "cell_type": "code",
   "execution_count": null,
   "id": "39e51e0b",
   "metadata": {},
   "outputs": [],
   "source": []
  },
  {
   "cell_type": "code",
   "execution_count": null,
   "id": "9fb38120",
   "metadata": {},
   "outputs": [],
   "source": []
  },
  {
   "cell_type": "markdown",
   "id": "f4410d20",
   "metadata": {
    "deletable": false,
    "editable": false
   },
   "source": [
    "[Return to Top](#top)"
   ]
  }
 ],
 "metadata": {
  "kernelspec": {
   "display_name": "Python 3 (ipykernel)",
   "language": "python",
   "name": "python3"
  },
  "language_info": {
   "codemirror_mode": {
    "name": "ipython",
    "version": 3
   },
   "file_extension": ".py",
   "mimetype": "text/x-python",
   "name": "python",
   "nbconvert_exporter": "python",
   "pygments_lexer": "ipython3",
   "version": "3.9.12"
  }
 },
 "nbformat": 4,
 "nbformat_minor": 5
}
